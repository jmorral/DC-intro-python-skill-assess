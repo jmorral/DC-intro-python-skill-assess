{
 "cells": [
  {
   "cell_type": "code",
   "execution_count": null,
   "metadata": {},
   "outputs": [],
   "source": [
    "###Datacamp intro to python Skills assessment Check \n",
    "##The questions are not my own work\n",
    "#The answers and explanations are"
   ]
  },
  {
   "cell_type": "code",
   "execution_count": 1,
   "metadata": {},
   "outputs": [
    {
     "name": "stdout",
     "output_type": "stream",
     "text": [
      "0.625\n",
      "0.375\n",
      "0.75\n",
      "0.875\n"
     ]
    }
   ],
   "source": [
    "##Which of the following returns 0.75?\n",
    "#You can do this in your head of course, but this is python training. Printing each option returns each individual answer\n",
    "print(5/8)\n",
    "print(3/8)\n",
    "print(6/8) #correct\n",
    "print(7/8)"
   ]
  },
  {
   "cell_type": "code",
   "execution_count": 11,
   "metadata": {},
   "outputs": [
    {
     "name": "stdout",
     "output_type": "stream",
     "text": [
      "(3, 2)\n"
     ]
    }
   ],
   "source": [
    "##Complete code to return output of (3,2)\n",
    "#Method options are shape, len, size, dim\n",
    "\n",
    "import numpy as np\n",
    "numbers = [[50,3], [21,5], [32,80]]\n",
    "np_array = np.array(numbers)\n",
    "print(np_array.shape) #Answer\n",
    "#np_array.shape returns the shape of the object. So here when used on this array, (3,2) means that there are 3 dimensions each containing 2 elements.\n",
    "\n",
    "#print(np_array.len) # error numpy.ndarray object has no attribute len (length)\n",
    "#print(np_array.size) # returns '6'. \"Size\" call indicates how many elements are in np array\n",
    "#print(np_array.dim)# error numpy.ndarray object has no attribute dim"
   ]
  },
  {
   "cell_type": "code",
   "execution_count": 12,
   "metadata": {},
   "outputs": [
    {
     "data": {
      "text/plain": [
       "array([4, 5, 2])"
      ]
     },
     "execution_count": 12,
     "metadata": {},
     "output_type": "execute_result"
    }
   ],
   "source": [
    "##What will \"np.array([True,1,2]) + np.array([3,4,False])\" return?\n",
    "#Yes this can be done in your head also because we know that True = 1 and False = 0 but that isn't Python-y.\n",
    "#Answer should be array([4,5,2])\n",
    "\n",
    "np.array([True,1,2]) + np.array([3,4,False]) #Yes, it is as above"
   ]
  },
  {
   "cell_type": "code",
   "execution_count": 14,
   "metadata": {},
   "outputs": [
    {
     "name": "stdout",
     "output_type": "stream",
     "text": [
      "Bob Smith\n"
     ]
    }
   ],
   "source": [
    "##Complete code to return output \"Bob Smith\"\n",
    "#Options are: **, +, *\n",
    "# ** is exponent, * is multiplication, so we want +\n",
    "\n",
    "name = \"Bob\"\n",
    "surname = \" Smith\"\n",
    "print(name + surname)"
   ]
  },
  {
   "cell_type": "code",
   "execution_count": 15,
   "metadata": {},
   "outputs": [],
   "source": [
    "## Which of the following is true?\n",
    "\n",
    "#1 General imports are preferred over selective imports\n",
    "#2 Both general and selective imports are preferred\n",
    "#3 Selective imports are preferred over general imports\n",
    "\n",
    "#1 is the answer. This is preferred as it ensures that you are not missing a critical piece of functionality from the module/package you're working with. "
   ]
  },
  {
   "cell_type": "code",
   "execution_count": 16,
   "metadata": {},
   "outputs": [],
   "source": [
    "##Which of the follwing statements is true for boolean numpy arrays?\n",
    "\n",
    "#1 Boolean numpy array is created when comparison is made between arrays of different shape\n",
    "#2 Boolean numpy array is an array consisting of boolean values\n",
    "#3 Boolean numpy array can't contain random boolean values\n",
    "#4 Boolean numpy array can contain values of different data types\n",
    "\n",
    "#2 is the answer. "
   ]
  },
  {
   "cell_type": "code",
   "execution_count": 18,
   "metadata": {},
   "outputs": [
    {
     "name": "stdout",
     "output_type": "stream",
     "text": [
      "7\n"
     ]
    }
   ],
   "source": [
    "##What is the output of this code?\n",
    "#The print statement is asking python to return the value of the 3rd dimension, 2nd element because python is 0 indexed. Answer should be '7'\n",
    "\n",
    "\n",
    "import numpy as np\n",
    "np_2d = np.array([[2,3],[4,5],[6,7]])\n",
    "print(np_2d[2,1])\n",
    "\n",
    "# dimension    0     1     2\n",
    "# element     0 1   0 1   0 1\n",
    "#          ([[2,3],[4,5],[6,7]])"
   ]
  },
  {
   "cell_type": "code",
   "execution_count": 19,
   "metadata": {},
   "outputs": [],
   "source": [
    "##Which one of these is ture for 2D numpy arithmetic?\n",
    "\n",
    "#1 Matrices are not able to perform all calculations element by element. #False\n",
    "#2 Matrices can be combined with single numbers, with vectors, and with other matrices\n",
    "#3 Matrices can not be combined with single numbers, with vectors, and with other matrices #False\n",
    "\n",
    "#2 is the answer."
   ]
  },
  {
   "cell_type": "code",
   "execution_count": 21,
   "metadata": {},
   "outputs": [
    {
     "name": "stdout",
     "output_type": "stream",
     "text": [
      "['Jan', 'Feb', 'Mar', 'July']\n"
     ]
    }
   ],
   "source": [
    "##Complete the code to return the output: ['Jan', 'Feb', 'Mar', 'July']\n",
    "\n",
    "#options are 4, \"Apr\", 3, -2\n",
    "\n",
    "# 4 is incorrect because that index does not exist in the list\n",
    "# -2 is incorrect because it would return \"Mar\" to be changed not \"Apr\"\n",
    "# \"Apr\" is incorrect because list indices must be integers or slices\n",
    "# 3 is the answer \n",
    "\n",
    "x = [\"Jan\", \"Feb\", \"Mar\", \"Apr\"]\n",
    "x[3] = \"July\"\n",
    "print(x)"
   ]
  },
  {
   "cell_type": "code",
   "execution_count": 22,
   "metadata": {},
   "outputs": [
    {
     "name": "stdout",
     "output_type": "stream",
     "text": [
      "r data\n"
     ]
    }
   ],
   "source": [
    "##What is the output of this code?\n",
    "\n",
    "x = \"r\" #string\n",
    "print(x + ' data')\n",
    "\n",
    "# this should evaluate to \"r data\""
   ]
  },
  {
   "cell_type": "code",
   "execution_count": 23,
   "metadata": {},
   "outputs": [],
   "source": [
    "##Which of the following would call the \"x\" method on the object p. \n",
    "#method calls are object.method()\n",
    "\n",
    "#Answer is p.x()"
   ]
  },
  {
   "cell_type": "code",
   "execution_count": 24,
   "metadata": {},
   "outputs": [
    {
     "name": "stdout",
     "output_type": "stream",
     "text": [
      "[15, 15, 14, 9, 65]\n"
     ]
    }
   ],
   "source": [
    "##Complete the code to return the output\n",
    "#Desired output: [15,15,14,9,65]\n",
    "\n",
    "y = [15,15,14,9]\n",
    "y.append(65)\n",
    "print(y)\n",
    "\n",
    "##The other two options for answers have correct syntax, but are instructing python to append the wrong number. This y.append(65) means to add the integer 65 to the end of the existing list object. \n"
   ]
  },
  {
   "cell_type": "code",
   "execution_count": 25,
   "metadata": {},
   "outputs": [],
   "source": [
    "##What does ndarray stand for?\n",
    "\n",
    "#Answer n dimensional array because n can be any number."
   ]
  },
  {
   "cell_type": "code",
   "execution_count": 26,
   "metadata": {},
   "outputs": [],
   "source": [
    "##Which of the following accesses the first column of the np_2d 2D numpy array?\n",
    "\n",
    "#First column would be the element at index 0 for all dimensions with an array. np_array[dimension, element]\n",
    "\n",
    "#np_2d[:,0] \":\" indicating all dimensions within the array, 0 indicating the first element or column for this example. "
   ]
  },
  {
   "cell_type": "code",
   "execution_count": 27,
   "metadata": {},
   "outputs": [
    {
     "name": "stdout",
     "output_type": "stream",
     "text": [
      "[[-5 -3  2]\n",
      " [ 7  1  0]]\n"
     ]
    }
   ],
   "source": [
    "##x and y are as follows: \n",
    "\n",
    "x = np.array([[1,2,7],\n",
    "             [7,7,1]])\n",
    "y = np.array([[6,5,5],\n",
    "             [0,6,1]])\n",
    "\n",
    "#what is the output?\n",
    "print(x-y)\n",
    "\n",
    "#This can be solved with matrix arithmetic and should be: [[-5 -3 2] [7 1 0]]"
   ]
  },
  {
   "cell_type": "code",
   "execution_count": 33,
   "metadata": {},
   "outputs": [
    {
     "name": "stdout",
     "output_type": "stream",
     "text": [
      "0.0\n",
      "1\n",
      "\n"
     ]
    }
   ],
   "source": [
    "##Select the code to return the output - there isn't output?\n",
    "#This is not an error, we are looking for what returns an \"empty return\" so it is #3\n",
    "\n",
    "#1\n",
    "x=int(2.3) #evaluates to 2\n",
    "y=0\n",
    "print(x*float(y)) #returns 0.0 because 2 x 0.0\n",
    "\n",
    "#2\n",
    "x = int(True) #evaluates to 1\n",
    "y = 1\n",
    "print (x * bool(y)) #returns 1 because 1x1\n",
    "\n",
    "#3\n",
    "x = int(False) #evalues to 0\n",
    "y = 1\n",
    "print(x * str(y)) #evaluates to nothing because it is undefined or N/A"
   ]
  },
  {
   "cell_type": "code",
   "execution_count": 34,
   "metadata": {},
   "outputs": [],
   "source": [
    "##What is a function\n",
    "\n",
    "#1 A code template for creating objects\n",
    "#2 A collection of modules  #No, that is a package\n",
    "#3 A piece of reusable code\n",
    "\n",
    "#3 is the answer"
   ]
  },
  {
   "cell_type": "code",
   "execution_count": 35,
   "metadata": {},
   "outputs": [
    {
     "name": "stdout",
     "output_type": "stream",
     "text": [
      "['Introduction', 'Python', 'DataCamp']\n"
     ]
    }
   ],
   "source": [
    "##What is the output of this code?\n",
    "\n",
    "practice = [\"Introduction\", \"Python\", \"DataCamp\", \"R\", \"SQL\", \"Data Science\"]\n",
    "x = -6\n",
    "y = -3\n",
    "print(practice[x:y])\n",
    "\n",
    "#this is saying practice [-6:-3]. -6 index is \"Introduction\" counting from the end. -3 is \"R\". So the slice would be from -6 to -3 but not including \"R\"\n",
    "#Answer should be [Introduction\", \"Python\", \"DataCamp\"] and it is."
   ]
  },
  {
   "cell_type": "code",
   "execution_count": 36,
   "metadata": {},
   "outputs": [
    {
     "name": "stdout",
     "output_type": "stream",
     "text": [
      "[7]\n"
     ]
    }
   ],
   "source": [
    "##Complete the code to return the output\n",
    "#Desired output is [7]\n",
    "\n",
    "#import numpy as np\n",
    "#store = np.array([\"X\", \"Z\", \"Z\", \"Z\"])\n",
    "#cost = np.array([7,1,9,4])\n",
    "#select_cost = cost[store ==?]\n",
    "#print(select_cost)\n",
    "\n",
    "#Options:\n",
    "#1 select_cost #doesn't make sense because reading right to left, select cost doesn't exist yet if placed in ?\n",
    "#2 \"Y\" #No, not a valid answer because it doesn't exist in this problem\n",
    "#3 \"Z\" #No because Z could be 1, 9, or 4\n",
    "#4 \"X\" #Yes. The problem is asking for the element of cost based on the array in store. the first element in store is x, and would return the first element in cost if using that as an argument. \n",
    "\n",
    "import numpy as np\n",
    "store = np.array([\"X\", \"Z\", \"Z\", \"Z\"])\n",
    "cost = np.array([7,1,9,4])\n",
    "select_cost = cost[store == \"X\"]\n",
    "print(select_cost)"
   ]
  },
  {
   "cell_type": "code",
   "execution_count": 37,
   "metadata": {},
   "outputs": [
    {
     "data": {
      "text/plain": [
       "array([[9.4, 2.5]])"
      ]
     },
     "execution_count": 37,
     "metadata": {},
     "output_type": "execute_result"
    }
   ],
   "source": [
    "##What is the output of this code?\n",
    "\n",
    "import numpy as np\n",
    "np_2d = np.array([[1.5,6.4,7.8,2.2], [4.3,8.7,1.9,3.4], [5.3,7.3,9.4,2.5]])\n",
    "np_2d[2:, 2:]\n",
    "\n",
    "#The first 2: is indicating \"dimension at index 2 of the array until the end\", the second 2: is indicating the \n",
    "#\"element at index 2 until the end.\"\" So this should return array([[9.4, 2.5]]) and it does.\n",
    "\n",
    "#Because:\n",
    "\n",
    "# Dimension       0                  1                  2\n",
    "# element   0   1   2   3      0   1   2   3      0   1   2   3\n",
    "np.array([[1.5,6.4,7.8,2.2], [4.3,8.7,1.9,3.4], [5.3,7.3,9.4,2.5]])"
   ]
  },
  {
   "cell_type": "code",
   "execution_count": 38,
   "metadata": {},
   "outputs": [
    {
     "name": "stdout",
     "output_type": "stream",
     "text": [
      "3.5\n",
      "21\n",
      "1.707825127659933\n"
     ]
    }
   ],
   "source": [
    "##Select the code to return the output: 3.5\n",
    "#np_2d[0,:] = dimension at index 0, all elements = [5,6,1,2,3,4]\n",
    "\n",
    "\n",
    "#1\n",
    "import numpy as np\n",
    "np_2d = np.array([[5,6,1,2,3,4], [4,5,3,2,1,8], [9,10,3,7,6,5]])\n",
    "print(np.median(np_2d[0,:]))\n",
    "#median would re-order to 1,2,3,4,5,6 and median would be 3.5\n",
    "#this is the answer\n",
    "\n",
    "#2\n",
    "#1\n",
    "import numpy as np\n",
    "np_2d = np.array([[5,6,1,2,3,4], [4,5,3,2,1,8], [9,10,3,7,6,5]])\n",
    "print(np.sum(np_2d[0,:]))\n",
    "#sum would be 21\n",
    "\n",
    "#3\n",
    "#1\n",
    "import numpy as np\n",
    "np_2d = np.array([[5,6,1,2,3,4], [4,5,3,2,1,8], [9,10,3,7,6,5]])\n",
    "print(np.std(np_2d[0,:]))\n",
    "#std would be standard deviation which should be 1.something"
   ]
  },
  {
   "cell_type": "code",
   "execution_count": 39,
   "metadata": {},
   "outputs": [],
   "source": [
    "##What are the optional arguments to the function 'function_1()'?\n",
    "\n",
    "#function_1(r1, q, p = None, r2 = None)\n",
    "\n",
    "#the answer is p and r2"
   ]
  },
  {
   "cell_type": "code",
   "execution_count": 40,
   "metadata": {},
   "outputs": [
    {
     "name": "stdout",
     "output_type": "stream",
     "text": [
      "[['i', 'x', 'y'], [0, 0, 3], [2.54, 9.2, 3.84]]\n"
     ]
    }
   ],
   "source": [
    "##Complete the code and return the output\n",
    "#Desired output: [['i', 'x', 'y'], [0,0,3], [2.54, 9.2, 3.84]]\n",
    "\n",
    "a = [2.54, 9.2, 3.84]\n",
    "b = ['i', 'x', 'y']\n",
    "c = [0,0,3]\n",
    "#print(what?)\n",
    "print([b,c,a])"
   ]
  },
  {
   "cell_type": "code",
   "execution_count": 46,
   "metadata": {},
   "outputs": [
    {
     "name": "stdout",
     "output_type": "stream",
     "text": [
      "5.0\n"
     ]
    }
   ],
   "source": [
    "##Complete the code to return the output\n",
    "#Desired output: 5.0\n",
    "\n",
    "# Find the mean of the second column of costs\n",
    "import numpy as np\n",
    "costs = np.column_stack(([2, 1, 2, 1],\n",
    "                        [4, 6, 5, 5]))\n",
    "mean_costs = np.mean(costs[:,1])\n",
    "print(mean_costs)\n",
    "\n",
    "#If you call print(costs) you can see that each dimension in the array becomes a column instead of the other way around where corresponding elements between dimensions would become rows. \n",
    "#So there are two columns total. Each dimension corresponding to the data in the respective column. The mean of the elements in the second column = 5, but we have to properly select it because it has changed.\n",
    "#print(costs) yields:\n",
    "#[[2 4]\n",
    " #[1 6]\n",
    " #[2 5]\n",
    " #[1 5]]\n",
    "    #Now, though it isn't a data frame, the slicing follows a [rows, columns] syntax. So the piece we want is [:,1] meaning all rows from column at index 1.\n"
   ]
  },
  {
   "cell_type": "code",
   "execution_count": 50,
   "metadata": {},
   "outputs": [
    {
     "name": "stdout",
     "output_type": "stream",
     "text": [
      "10\n"
     ]
    }
   ],
   "source": [
    "##Complete the code to return the output\n",
    "#Desired output: 10\n",
    "\n",
    "x = 5\n",
    "y = x #so it is also equal to 5\n",
    "\n",
    "print (x + y) #use + because * and ** would multiply and do exponent, respectively, instead"
   ]
  },
  {
   "cell_type": "code",
   "execution_count": 51,
   "metadata": {},
   "outputs": [
    {
     "name": "stdout",
     "output_type": "stream",
     "text": [
      "3.65\n"
     ]
    }
   ],
   "source": [
    "##Complete the code to return the output\n",
    "#Desired output: 3.65\n",
    "\n",
    "#Find the median of x\n",
    "import numpy as np\n",
    "x = np.array([4.19, 3.65, 2.93])\n",
    "#print(what?(x)) # no multiple choice answers given. This was fill in the blank.\n",
    "print(np.median(x))"
   ]
  },
  {
   "cell_type": "code",
   "execution_count": 58,
   "metadata": {},
   "outputs": [
    {
     "name": "stdout",
     "output_type": "stream",
     "text": [
      "['j', 'x', 'n', 'x']\n"
     ]
    }
   ],
   "source": [
    "##Complete the code to return the output\n",
    "#Desired output: ['j', 'x', 'n', 'x']\n",
    "\n",
    "#Choices\n",
    "#del - this deletes the selection - this is the right answer\n",
    "#replace - replaces with something else, that is not what is happening and it is not defined, so probably doesn't exist in this context\n",
    "#rm - Not defined, probably does not exist as a function in python\n",
    "#remove - Not defined, probably does not exist as a function in python\n",
    "#cut - Not defined, probably does not exist as a function in python\n",
    "#delete - Not defined, probably does not exist as a function in python\n",
    "\n",
    "p = ['j', 'x', 'n', 'k', 'e', 'x']\n",
    "#what(p[3:5])\n",
    "del(p[3:5])\n",
    "print(p)"
   ]
  },
  {
   "cell_type": "code",
   "execution_count": 69,
   "metadata": {},
   "outputs": [
    {
     "name": "stdout",
     "output_type": "stream",
     "text": [
      "(2, 4)\n"
     ]
    }
   ],
   "source": [
    "##Complete the code to return the output\n",
    "#Desired output: (2,4)\n",
    "\n",
    "#Choices:\n",
    "#dimensions - attribute does not exist\n",
    "#size - tells the total number of elements across all dimensions\n",
    "#shape - this is correct as this array contains two dimensions, each containing 4 elements. So (2,4)\n",
    "\n",
    "\n",
    "import numpy as np\n",
    "x = np.array([14, 21, 24, 24])\n",
    "y = np.array([12, 6, 23, 29])\n",
    "z = np.array([x,y])\n",
    "#print(z.what?)\n",
    "print(z.shape)"
   ]
  },
  {
   "cell_type": "code",
   "execution_count": 70,
   "metadata": {},
   "outputs": [
    {
     "name": "stdout",
     "output_type": "stream",
     "text": [
      "2.266911751455907\n"
     ]
    }
   ],
   "source": [
    "##Complete the code to return the output\n",
    "#Desired output: 2.266911751455907\n",
    "\n",
    "#Choices:\n",
    "#sum - obviously not correct here as the answer is a float barely larger than the 4th element in the object. Sum = 23\n",
    "#median - re-write - 1,2,3,4,5,8 so answer is 3.5\n",
    "#std - The answer\n",
    "\n",
    "import numpy as np\n",
    "np_2d = np.array([[5,6,1,2,3,4], [4,5,3,2,1,8], [9,10,3,7,6,5]])\n",
    "#print(np.what?(np_2d[1,:]))\n",
    "#slice indicates all elements of dimension at index 1\n",
    "print(np.std(np_2d[1,:]))"
   ]
  },
  {
   "cell_type": "code",
   "execution_count": 72,
   "metadata": {},
   "outputs": [
    {
     "name": "stdout",
     "output_type": "stream",
     "text": [
      "[1, 2, 3]\n",
      "[True, False, 0]\n",
      "['DataCamp', 'Python', 'Practice']\n"
     ]
    },
    {
     "ename": "IndexError",
     "evalue": "list index out of range",
     "output_type": "error",
     "traceback": [
      "\u001b[1;31m---------------------------------------------------------------------------\u001b[0m",
      "\u001b[1;31mIndexError\u001b[0m                                Traceback (most recent call last)",
      "\u001b[1;32m<ipython-input-72-1018b6bc8769>\u001b[0m in \u001b[0;36m<module>\u001b[1;34m\u001b[0m\n\u001b[0;32m      8\u001b[0m \u001b[0mprint\u001b[0m\u001b[1;33m(\u001b[0m\u001b[0mx\u001b[0m\u001b[1;33m[\u001b[0m\u001b[1;33m-\u001b[0m\u001b[1;36m1\u001b[0m\u001b[1;33m]\u001b[0m\u001b[1;33m[\u001b[0m\u001b[1;33m:\u001b[0m\u001b[1;36m3\u001b[0m\u001b[1;33m]\u001b[0m\u001b[1;33m)\u001b[0m\u001b[1;33m\u001b[0m\u001b[1;33m\u001b[0m\u001b[0m\n\u001b[0;32m      9\u001b[0m \u001b[0mprint\u001b[0m\u001b[1;33m(\u001b[0m\u001b[0mx\u001b[0m\u001b[1;33m[\u001b[0m\u001b[1;36m1\u001b[0m\u001b[1;33m]\u001b[0m\u001b[1;33m[\u001b[0m\u001b[1;33m:\u001b[0m\u001b[1;36m3\u001b[0m\u001b[1;33m]\u001b[0m\u001b[1;33m)\u001b[0m\u001b[1;33m\u001b[0m\u001b[1;33m\u001b[0m\u001b[0m\n\u001b[1;32m---> 10\u001b[1;33m \u001b[0mprint\u001b[0m\u001b[1;33m(\u001b[0m\u001b[0mx\u001b[0m\u001b[1;33m[\u001b[0m\u001b[1;36m3\u001b[0m\u001b[1;33m]\u001b[0m\u001b[1;33m[\u001b[0m\u001b[1;33m:\u001b[0m\u001b[1;36m3\u001b[0m\u001b[1;33m]\u001b[0m\u001b[1;33m)\u001b[0m\u001b[1;33m\u001b[0m\u001b[1;33m\u001b[0m\u001b[0m\n\u001b[0m",
      "\u001b[1;31mIndexError\u001b[0m: list index out of range"
     ]
    }
   ],
   "source": [
    "##Complete the code to return the output\n",
    "#Desired output: ['DataCamp', 'Python', 'Practice']\n",
    "\n",
    "#Expected answer would be \"1\" as that is the element that contains the strings.\n",
    "\n",
    "x = [[1,2,3,4,5], ['DataCamp', 'Python', 'Practice', 'Exercises'], [True, False, 0,1]]\n",
    "print(x[0][:3])   #indicates first list object in main list\n",
    "print(x[-1][:3])  #indicates the last list object in the main list\n",
    "print(x[1][:3])   #Answer\n",
    "print(x[3][:3])   #index doesn't exist in this context"
   ]
  },
  {
   "cell_type": "code",
   "execution_count": null,
   "metadata": {},
   "outputs": [],
   "source": []
  }
 ],
 "metadata": {
  "kernelspec": {
   "display_name": "Python 3",
   "language": "python",
   "name": "python3"
  },
  "language_info": {
   "codemirror_mode": {
    "name": "ipython",
    "version": 3
   },
   "file_extension": ".py",
   "mimetype": "text/x-python",
   "name": "python",
   "nbconvert_exporter": "python",
   "pygments_lexer": "ipython3",
   "version": "3.7.4"
  }
 },
 "nbformat": 4,
 "nbformat_minor": 2
}
